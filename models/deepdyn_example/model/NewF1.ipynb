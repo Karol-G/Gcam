{
 "cells": [
  {
   "cell_type": "code",
   "execution_count": 14,
   "metadata": {},
   "outputs": [],
   "source": [
    "import os\n",
    "import sys\n",
    "sep = os.sep\n",
    "import numpy as np\n",
    "# from testarch.unet import runs as ru\n",
    "from testarch.miniunet import runs as ru\n",
    "import utils.auto_split as asp"
   ]
  },
  {
   "cell_type": "code",
   "execution_count": 15,
   "metadata": {},
   "outputs": [],
   "source": [
    "from PIL import Image as IMG\n",
    "from utils.img_utils import Image\n",
    "from sklearn.metrics import precision_recall_fscore_support\n",
    "from scipy.ndimage.morphology import distance_transform_edt"
   ]
  },
  {
   "cell_type": "code",
   "execution_count": null,
   "metadata": {},
   "outputs": [],
   "source": []
  },
  {
   "cell_type": "code",
   "execution_count": 20,
   "metadata": {},
   "outputs": [],
   "source": [
    "runs_unet = [\n",
    "    ru.DRIVE_WEIGHTED, ru.DRIVE_1_1, ru.DRIVE_1_100_1,\n",
    "    ru.STARE_WEIGHTED, ru.STARE_1_1, ru.STARE_1_100_1,\n",
    "    ru.WIDE_WEIGHTED, ru.WIDE_1_1, ru.WIDE_1_100_1,\n",
    "    ru.VEVIO_MOSAICS_WEIGHTED, ru.VEVIO_MOSAICS_1_1, ru.VEVIO_MOSAICS_1_100_1,\n",
    "    ru.VEVIO_FRAMES_WEIGHTED, ru.VEVIO_FRAMES_1_1, ru.VEVIO_FRAMES_1_100_1]"
   ]
  },
  {
   "cell_type": "code",
   "execution_count": null,
   "metadata": {},
   "outputs": [],
   "source": []
  },
  {
   "cell_type": "code",
   "execution_count": null,
   "metadata": {},
   "outputs": [],
   "source": []
  },
  {
   "cell_type": "code",
   "execution_count": 21,
   "metadata": {},
   "outputs": [],
   "source": [
    "log_file = 'F1'+sep+'DRIVE_MINIUNET.csv'"
   ]
  },
  {
   "cell_type": "code",
   "execution_count": 22,
   "metadata": {},
   "outputs": [
    {
     "name": "stdout",
     "output_type": "stream",
     "text": [
      "logs\\DRIVE\\MINI_UNET_WEIGHTED\n",
      "### SPLIT FOUND:  data\\DRIVE\\splits\\DRIVE.json Loaded\n",
      "logs\\DRIVE\\MINI_UNET_1__1\n",
      "### SPLIT FOUND:  data\\DRIVE\\splits\\DRIVE.json Loaded\n",
      "logs\\DRIVE\\MINI_UNET_1_100_1\n",
      "### SPLIT FOUND:  data\\DRIVE\\splits\\DRIVE.json Loaded\n",
      "logs\\STARE\\MINI_UNET_WEIGHTED\n",
      "### SPLIT FOUND:  data\\STARE\\splits\\STARE_0.json Loaded\n",
      "### SPLIT FOUND:  data\\STARE\\splits\\STARE_1.json Loaded\n",
      "### SPLIT FOUND:  data\\STARE\\splits\\STARE_2.json Loaded\n",
      "### SPLIT FOUND:  data\\STARE\\splits\\STARE_3.json Loaded\n",
      "### SPLIT FOUND:  data\\STARE\\splits\\STARE_4.json Loaded\n",
      "logs\\STARE\\MINI_UNET_1__1\n",
      "### SPLIT FOUND:  data\\STARE\\splits\\STARE_0.json Loaded\n",
      "### SPLIT FOUND:  data\\STARE\\splits\\STARE_1.json Loaded\n",
      "### SPLIT FOUND:  data\\STARE\\splits\\STARE_2.json Loaded\n",
      "### SPLIT FOUND:  data\\STARE\\splits\\STARE_3.json Loaded\n",
      "### SPLIT FOUND:  data\\STARE\\splits\\STARE_4.json Loaded\n",
      "logs\\STARE\\MINI_UNET_1_100_1\n",
      "### SPLIT FOUND:  data\\STARE\\splits\\STARE_0.json Loaded\n",
      "### SPLIT FOUND:  data\\STARE\\splits\\STARE_1.json Loaded\n",
      "### SPLIT FOUND:  data\\STARE\\splits\\STARE_2.json Loaded\n",
      "### SPLIT FOUND:  data\\STARE\\splits\\STARE_3.json Loaded\n",
      "### SPLIT FOUND:  data\\STARE\\splits\\STARE_4.json Loaded\n",
      "logs\\AV_WIDE\\MINI_UNET_WEIGHTED\n",
      "### SPLIT FOUND:  data\\AV-WIDE\\splits\\AV-WIDE_0.json Loaded\n",
      "### SPLIT FOUND:  data\\AV-WIDE\\splits\\AV-WIDE_1.json Loaded\n",
      "### SPLIT FOUND:  data\\AV-WIDE\\splits\\AV-WIDE_2.json Loaded\n",
      "### SPLIT FOUND:  data\\AV-WIDE\\splits\\AV-WIDE_3.json Loaded\n",
      "### SPLIT FOUND:  data\\AV-WIDE\\splits\\AV-WIDE_4.json Loaded\n",
      "### SPLIT FOUND:  data\\AV-WIDE\\splits\\AV-WIDE_5.json Loaded\n",
      "logs\\AV_WIDE\\MINI_UNET_1__1\n",
      "### SPLIT FOUND:  data\\AV-WIDE\\splits\\AV-WIDE_0.json Loaded\n",
      "### SPLIT FOUND:  data\\AV-WIDE\\splits\\AV-WIDE_1.json Loaded\n",
      "### SPLIT FOUND:  data\\AV-WIDE\\splits\\AV-WIDE_2.json Loaded\n",
      "### SPLIT FOUND:  data\\AV-WIDE\\splits\\AV-WIDE_3.json Loaded\n",
      "### SPLIT FOUND:  data\\AV-WIDE\\splits\\AV-WIDE_4.json Loaded\n",
      "### SPLIT FOUND:  data\\AV-WIDE\\splits\\AV-WIDE_5.json Loaded\n",
      "logs\\AV_WIDE\\MINI_UNET_1_100_1\n",
      "### SPLIT FOUND:  data\\AV-WIDE\\splits\\AV-WIDE_0.json Loaded\n",
      "### SPLIT FOUND:  data\\AV-WIDE\\splits\\AV-WIDE_1.json Loaded\n",
      "### SPLIT FOUND:  data\\AV-WIDE\\splits\\AV-WIDE_2.json Loaded\n",
      "### SPLIT FOUND:  data\\AV-WIDE\\splits\\AV-WIDE_3.json Loaded\n",
      "### SPLIT FOUND:  data\\AV-WIDE\\splits\\AV-WIDE_4.json Loaded\n",
      "### SPLIT FOUND:  data\\AV-WIDE\\splits\\AV-WIDE_5.json Loaded\n",
      "logs\\VEVIO_MOSAICS\\MINI_UNET_WEIGHTED\n",
      "### SPLIT FOUND:  data\\VEVIO\\splits_mosaics\\VEVIO_0.json Loaded\n",
      "### SPLIT FOUND:  data\\VEVIO\\splits_mosaics\\VEVIO_1.json Loaded\n",
      "### SPLIT FOUND:  data\\VEVIO\\splits_mosaics\\VEVIO_2.json Loaded\n",
      "### SPLIT FOUND:  data\\VEVIO\\splits_mosaics\\VEVIO_3.json Loaded\n",
      "### SPLIT FOUND:  data\\VEVIO\\splits_mosaics\\VEVIO_4.json Loaded\n",
      "logs\\VEVIO_MOSAICS\\MINI_UNET_1__1\n",
      "### SPLIT FOUND:  data\\VEVIO\\splits_mosaics\\VEVIO_0.json Loaded\n",
      "### SPLIT FOUND:  data\\VEVIO\\splits_mosaics\\VEVIO_1.json Loaded\n",
      "### SPLIT FOUND:  data\\VEVIO\\splits_mosaics\\VEVIO_2.json Loaded\n",
      "### SPLIT FOUND:  data\\VEVIO\\splits_mosaics\\VEVIO_3.json Loaded\n",
      "### SPLIT FOUND:  data\\VEVIO\\splits_mosaics\\VEVIO_4.json Loaded\n",
      "logs\\VEVIO_MOSAICS\\MINI_UNET_1_100_1\n",
      "### SPLIT FOUND:  data\\VEVIO\\splits_mosaics\\VEVIO_0.json Loaded\n",
      "### SPLIT FOUND:  data\\VEVIO\\splits_mosaics\\VEVIO_1.json Loaded\n",
      "### SPLIT FOUND:  data\\VEVIO\\splits_mosaics\\VEVIO_2.json Loaded\n",
      "### SPLIT FOUND:  data\\VEVIO\\splits_mosaics\\VEVIO_3.json Loaded\n",
      "### SPLIT FOUND:  data\\VEVIO\\splits_mosaics\\VEVIO_4.json Loaded\n",
      "logs\\VEVIO_FRAMES\\MINI_UNET_WEIGHTED\n",
      "### SPLIT FOUND:  data\\VEVIO\\splits_frames\\VEVIO_0.json Loaded\n",
      "### SPLIT FOUND:  data\\VEVIO\\splits_frames\\VEVIO_1.json Loaded\n",
      "### SPLIT FOUND:  data\\VEVIO\\splits_frames\\VEVIO_2.json Loaded\n",
      "### SPLIT FOUND:  data\\VEVIO\\splits_frames\\VEVIO_3.json Loaded\n",
      "### SPLIT FOUND:  data\\VEVIO\\splits_frames\\VEVIO_4.json Loaded\n",
      "logs\\VEVIO_FRAMES\\MINI_UNET_1__1\n",
      "### SPLIT FOUND:  data\\VEVIO\\splits_frames\\VEVIO_0.json Loaded\n",
      "### SPLIT FOUND:  data\\VEVIO\\splits_frames\\VEVIO_1.json Loaded\n",
      "### SPLIT FOUND:  data\\VEVIO\\splits_frames\\VEVIO_2.json Loaded\n",
      "### SPLIT FOUND:  data\\VEVIO\\splits_frames\\VEVIO_3.json Loaded\n",
      "### SPLIT FOUND:  data\\VEVIO\\splits_frames\\VEVIO_4.json Loaded\n",
      "logs\\VEVIO_FRAMES\\MINI_UNET_1_100_1\n",
      "### SPLIT FOUND:  data\\VEVIO\\splits_frames\\VEVIO_0.json Loaded\n",
      "### SPLIT FOUND:  data\\VEVIO\\splits_frames\\VEVIO_1.json Loaded\n",
      "### SPLIT FOUND:  data\\VEVIO\\splits_frames\\VEVIO_2.json Loaded\n",
      "### SPLIT FOUND:  data\\VEVIO\\splits_frames\\VEVIO_3.json Loaded\n",
      "### SPLIT FOUND:  data\\VEVIO\\splits_frames\\VEVIO_4.json Loaded\n"
     ]
    }
   ],
   "source": [
    "with open(log_file, 'w+') as log:\n",
    "    log.write('DATASET,EXPERIMENT,PREC_AVG,RECALL_AVG,F1')\n",
    "    for d in runs_unet:\n",
    "        print(d['Dirs']['logs'])\n",
    "        dset = d['Dirs']['logs'].split(os.sep)[1]\n",
    "        exp = d['Dirs']['logs'].split(os.sep)[-1]\n",
    "        results = {'p':[],'r':[], 'f1':[]}\n",
    "\n",
    "        test_files = []\n",
    "        for split_file in os.listdir(d['Dirs']['splits_json']):\n",
    "            test_files += asp.load_split_json(d['Dirs']['splits_json']+sep+split_file)['test']\n",
    "\n",
    "        for file in test_files:\n",
    "            image = Image()\n",
    "            image.load_file(d['Dirs']['image'], file)\n",
    "            image.load_ground_truth(d['Dirs']['truth'], d['Funcs']['truth_getter'])\n",
    "\n",
    "            if d['Dirs'].get('mask'):\n",
    "                image.load_mask(d['Dirs']['mask'], d['Funcs']['mask_getter'])\n",
    "            \n",
    "            try:\n",
    "                pred_file =  'pred_' + file.split('.')[0] + '.png'\n",
    "                image.pred = np.array(IMG.open(d['Dirs']['logs'] + sep + pred_file))\n",
    "            except:\n",
    "                pred_file =  file.split('.')[0] + '.png'\n",
    "                image.pred = np.array(IMG.open(d['Dirs']['logs'] + sep + pred_file))\n",
    "\n",
    "            image.pred[image.pred==255] = 1\n",
    "\n",
    "            gt = image.ground_truth.copy()\n",
    "            gt[gt==255] = 1\n",
    "            edt_gt = distance_transform_edt(gt)\n",
    "\n",
    "            edt = edt_gt.copy()\n",
    "            edt[edt>2] = 0\n",
    "            \n",
    "            ### Supress thick vessels when computing F1 Score\n",
    "            gt_masked = gt.copy()\n",
    "            gt_masked[edt==0] = 0\n",
    "            \n",
    "            pred_masked = image.pred.copy()\n",
    "            pred_masked[edt==0] = 0\n",
    "\n",
    "            p, r, f1, _ = precision_recall_fscore_support(gt.flatten(), image.pred.flatten(), average='binary')\n",
    "            results['p'].append(p)\n",
    "            results['r'].append(r)\n",
    "            results['f1'].append(f1)\n",
    "        p_avg = np.array(results['p']).mean()\n",
    "        r_avg = np.array(results['r']).mean()\n",
    "        f1 =  (2 * p_avg * r_avg) / (p_avg + r_avg)\n",
    "        line = '{},{},{},{},{}'.format(dset, exp, round(p_avg, 5), round(r_avg, 5), round(f1, 5))\n",
    "        log.write('\\n'+line)\n",
    "        log.flush()"
   ]
  },
  {
   "cell_type": "code",
   "execution_count": 5,
   "metadata": {},
   "outputs": [],
   "source": [
    "import json"
   ]
  },
  {
   "cell_type": "code",
   "execution_count": 29,
   "metadata": {},
   "outputs": [],
   "source": [
    "def create_splits(files, k=0, json_file='SPLIT', shuffle_files=True):\n",
    "    import json\n",
    "    from random import shuffle\n",
    "    from itertools import chain\n",
    "    \n",
    "    json_file = json_file.split('.')[0] + '.json'\n",
    "    if shuffle_files:\n",
    "        shuffle(files)\n",
    "        \n",
    "    ix_splits =  np.array_split(np.arange(len(files)), k)\n",
    "    for i in range(len(ix_splits)):\n",
    "        \n",
    "        test_ix = ix_splits[i].tolist()\n",
    "        val_ix = ix_splits[(i+1)%len(ix_splits)].tolist()\n",
    "        train_ix = [ix for ix in np.arange(len(files)) if ix not in test_ix + val_ix]\n",
    "        \n",
    "        splits = {}\n",
    "        splits['train'] = [files[ix] for ix in train_ix]\n",
    "        splits['validation'] = [files[ix] for ix in val_ix]\n",
    "        splits['test'] = [files[ix] for ix in test_ix]\n",
    "        \n",
    "        print('Valid:', set(list(chain(*splits.values())))- set(files)==set([]))\n",
    "        \n",
    "        f = open(str(i) + json_file, \"w\")\n",
    "        f.write(json.dumps(splits))\n",
    "        f.close()"
   ]
  },
  {
   "cell_type": "code",
   "execution_count": 31,
   "metadata": {},
   "outputs": [
    {
     "name": "stdout",
     "output_type": "stream",
     "text": [
      "Valid: True\n",
      "Valid: True\n",
      "Valid: True\n",
      "Valid: True\n",
      "Valid: True\n"
     ]
    }
   ],
   "source": [
    "create_splits(os.listdir(ru.DRIVE_1_100_1['Dirs']['image']), k=5, json_file='CHASEDB')"
   ]
  },
  {
   "cell_type": "code",
   "execution_count": 103,
   "metadata": {},
   "outputs": [],
   "source": [
    "import torch"
   ]
  },
  {
   "cell_type": "code",
   "execution_count": 102,
   "metadata": {},
   "outputs": [],
   "source": [
    "def dice_loss(outputs=None, target=None, beta=1, weights=None,):\n",
    "    \"\"\"\n",
    "    :param weights: element-wise weights\n",
    "    :param outputs:\n",
    "    :param target:\n",
    "    :param beta: More beta, better precision. 1 is neutral\n",
    "    :return:\n",
    "    \"\"\"\n",
    "    smooth = 1.\n",
    "    if weights is not None:\n",
    "        weights = weights.contiguous().float().view(-1)\n",
    "    else:\n",
    "        weights = 1\n",
    "\n",
    "    iflat = outputs.contiguous().float().view(-1)\n",
    "    tflat = target.contiguous().float().view(-1)\n",
    "    intersection = (iflat * tflat * weights).sum()\n",
    "\n",
    "    f = (((1 + beta ** 2) * intersection) + smooth) / (((beta ** 2 * iflat.sum()) + tflat.sum()) + smooth)\n",
    "    return 1 - f\n"
   ]
  },
  {
   "cell_type": "code",
   "execution_count": 190,
   "metadata": {},
   "outputs": [],
   "source": [
    "a = torch.Tensor([1, 1, 0, 1, 0])\n",
    "b = torch.Tensor([1, 0, 1, 1, 1])"
   ]
  },
  {
   "cell_type": "code",
   "execution_count": 204,
   "metadata": {},
   "outputs": [
    {
     "data": {
      "text/plain": [
       "tensor(0.3750)"
      ]
     },
     "execution_count": 204,
     "metadata": {},
     "output_type": "execute_result"
    }
   ],
   "source": [
    "dice_loss(a, b, 1)"
   ]
  },
  {
   "cell_type": "code",
   "execution_count": 192,
   "metadata": {},
   "outputs": [],
   "source": [
    "y_true = b.clone().int().view(1, -1).squeeze()\n",
    "y_pred = a.clone().int().view(1, -1).squeeze()\n",
    "\n",
    "y_true[y_true == 255] = 1\n",
    "y_pred[y_pred == 255] = 1\n",
    "\n",
    "y_true = y_true * 2\n",
    "y_cases = y_true + y_pred\n",
    "tp = torch.sum(y_cases == 3).item()\n",
    "fp = torch.sum(y_cases == 1).item()\n",
    "tn = torch.sum(y_cases == 0).item()\n",
    "fn = torch.sum(y_cases == 2).item()"
   ]
  },
  {
   "cell_type": "code",
   "execution_count": 209,
   "metadata": {},
   "outputs": [],
   "source": [
    "beta  = 0\n",
    "try:\n",
    "    p = tp / (tp + fp)\n",
    "except ZeroDivisionError:\n",
    "    p = 0\n",
    "try:\n",
    "    r = tp / (tp + fn)\n",
    "except ZeroDivisionError:\n",
    "    r = 0\n",
    "try:\n",
    "    f = (1 + beta ** 2) * p * r / (((beta ** 2) * p) + r)\n",
    "except ZeroDivisionError:\n",
    "    f = 0"
   ]
  },
  {
   "cell_type": "code",
   "execution_count": 212,
   "metadata": {},
   "outputs": [],
   "source": [
    "import random\n",
    "# Lets define our Beta Function to generate s for any particular state. We don't care for the normalizing constant here.\n",
    "def beta_s(w,a,b):\n",
    "    return w**(a-1)*(1-w)**(b-1)\n",
    "\n",
    "# This Function returns True if the coin with probability P of heads comes heads when flipped.\n",
    "def random_coin(p):\n",
    "    unif = random.uniform(0,1)\n",
    "    if unif>=p:\n",
    "        return False\n",
    "    else:\n",
    "        return True\n",
    "\n",
    "# This Function runs the MCMC chain for Beta Distribution.\n",
    "def beta_mcmc(N_hops,a,b):\n",
    "    states = []\n",
    "    cur = random.uniform(0,1)\n",
    "    for i in range(0,N_hops):\n",
    "        states.append(cur)\n",
    "        next = random.uniform(0,1)\n",
    "        ap = min(beta_s(next,a,b)/beta_s(cur,a,b),1) # Calculate the acceptance probability\n",
    "        if random_coin(ap):\n",
    "            cur = next\n",
    "    return states[-1000:] # Returns the last 100 states of the chain"
   ]
  },
  {
   "cell_type": "code",
   "execution_count": 214,
   "metadata": {},
   "outputs": [
    {
     "name": "stderr",
     "output_type": "stream",
     "text": [
      "c:\\python37\\lib\\site-packages\\ipykernel_launcher.py:12: RuntimeWarning: divide by zero encountered in double_scalars\n",
      "  if sys.path[0] == '':\n",
      "c:\\python37\\lib\\site-packages\\ipykernel_launcher.py:13: RuntimeWarning: divide by zero encountered in double_scalars\n",
      "  del sys.path[0]\n",
      "c:\\python37\\lib\\site-packages\\ipykernel_launcher.py:25: MatplotlibDeprecationWarning: \n",
      "The 'normed' kwarg was deprecated in Matplotlib 2.1 and will be removed in 3.1. Use 'density' instead.\n"
     ]
    },
    {
     "data": {
      "image/png": "[encoded data removed]",
      "text/plain": [
       "<Figure size 1224x288 with 1 Axes>"
      ]
     },
     "metadata": {
      "needs_background": "light"
     },
     "output_type": "display_data"
    },
    {
     "data": {
      "image/png": "[encoded data removed]",
      "text/plain": [
       "<Figure size 1224x288 with 1 Axes>"
      ]
     },
     "metadata": {
      "needs_background": "light"
     },
     "output_type": "display_data"
    },
    {
     "data": {
      "image/png": "[encoded data removed]",
      "text/plain": [
       "<Figure size 1224x288 with 1 Axes>"
      ]
     },
     "metadata": {
      "needs_background": "light"
     },
     "output_type": "display_data"
    },
    {
     "data": {
      "image/png": "[encoded data removed]",
      "text/plain": [
       "<Figure size 1224x288 with 1 Axes>"
      ]
     },
     "metadata": {
      "needs_background": "light"
     },
     "output_type": "display_data"
    }
   ],
   "source": [
    "import numpy as np\n",
    "import pylab as pl\n",
    "import scipy.special as ss\n",
    "%matplotlib inline\n",
    "pl.rcParams['figure.figsize'] = (17.0, 4.0)\n",
    "\n",
    "# Actual Beta PDF.\n",
    "def beta(a, b, i):\n",
    "    e1 = ss.gamma(a + b)\n",
    "    e2 = ss.gamma(a)\n",
    "    e3 = ss.gamma(b)\n",
    "    e4 = i ** (a - 1)\n",
    "    e5 = (1 - i) ** (b - 1)\n",
    "    return (e1/(e2*e3)) * e4 * e5\n",
    "\n",
    "# Create a function to plot Actual Beta PDF with the Beta Sampled from MCMC Chain.\n",
    "def plot_beta(a, b):\n",
    "    Ly = []\n",
    "    Lx = []\n",
    "    i_list = np.mgrid[0:1:100j]\n",
    "    for i in i_list:\n",
    "        Lx.append(i)\n",
    "        Ly.append(beta(a, b, i))\n",
    "    pl.plot(Lx, Ly, label=\"Real Distribution: a=\"+str(a)+\", b=\"+str(b))\n",
    "    pl.hist(beta_mcmc(100000,a,b),normed=True,bins =25, histtype='step',label=\"Simulated_MCMC: a=\"+str(a)+\", b=\"+str(b))\n",
    "    pl.legend()\n",
    "    pl.show()\n",
    "    \n",
    "plot_beta(0.1, 0.1)\n",
    "plot_beta(1, 1)\n",
    "plot_beta(2, 3)\n",
    "plot_beta(0.5, 0.5)"
   ]
  },
  {
   "cell_type": "code",
   "execution_count": 197,
   "metadata": {},
   "outputs": [
    {
     "data": {
      "text/plain": [
       "(0.6666666666666666, 0.5, 0.5048543689320388)"
      ]
     },
     "execution_count": 197,
     "metadata": {},
     "output_type": "execute_result"
    }
   ],
   "source": [
    "p, r, f"
   ]
  },
  {
   "cell_type": "code",
   "execution_count": 246,
   "metadata": {},
   "outputs": [
    {
     "ename": "SyntaxError",
     "evalue": "invalid syntax (<ipython-input-246-b4e289aa5450>, line 1)",
     "output_type": "error",
     "traceback": [
      "\u001b[1;36m  File \u001b[1;32m\"<ipython-input-246-b4e289aa5450>\"\u001b[1;36m, line \u001b[1;32m1\u001b[0m\n\u001b[1;33m    a = 1==1 5 else 10\u001b[0m\n\u001b[1;37m             ^\u001b[0m\n\u001b[1;31mSyntaxError\u001b[0m\u001b[1;31m:\u001b[0m invalid syntax\n"
     ]
    }
   ],
   "source": [
    "a = 1==1 5 else 10"
   ]
  },
  {
   "cell_type": "code",
   "execution_count": null,
   "metadata": {},
   "outputs": [],
   "source": []
  }
 ],
 "metadata": {
  "kernelspec": {
   "display_name": "Python 3",
   "language": "python",
   "name": "python3"
  },
  "language_info": {
   "codemirror_mode": {
    "name": "ipython",
    "version": 3
   },
   "file_extension": ".py",
   "mimetype": "text/x-python",
   "name": "python",
   "nbconvert_exporter": "python",
   "pygments_lexer": "ipython3",
   "version": "3.7.4"
  }
 },
 "nbformat": 4,
 "nbformat_minor": 2
}
